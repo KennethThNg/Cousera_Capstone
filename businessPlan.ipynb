{
 "cells": [
  {
   "cell_type": "markdown",
   "metadata": {},
   "source": [
    "# Battle of Neighborhood\n",
    "\n",
    "## Introduction: Business Problem\n",
    "In this project, we will try to find the optimal location for a gym. The objective is to open a gym in the city of Toronto in Canada.\n",
    "\n",
    "In order to open a gym and make profit, we need to find a location which is not crowded of other gyms. We prefer that the gym is not to far from the city center, close to some office or public working place such as restaurant or market place so that people can go to the gym before or after work and even the client from the market place are able to come easily to the gym. To summarize, the gym need to be close to the city center and market place.\n",
    "\n",
    " "
   ]
  },
  {
   "cell_type": "code",
   "execution_count": null,
   "metadata": {},
   "outputs": [],
   "source": []
  }
 ],
 "metadata": {
  "kernelspec": {
   "display_name": "Python 3",
   "language": "python",
   "name": "python3"
  },
  "language_info": {
   "codemirror_mode": {
    "name": "ipython",
    "version": 3
   },
   "file_extension": ".py",
   "mimetype": "text/x-python",
   "name": "python",
   "nbconvert_exporter": "python",
   "pygments_lexer": "ipython3",
   "version": "3.6.5"
  }
 },
 "nbformat": 4,
 "nbformat_minor": 2
}
