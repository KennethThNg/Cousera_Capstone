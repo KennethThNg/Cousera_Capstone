{
 "cells": [
  {
   "cell_type": "markdown",
   "metadata": {},
   "source": [
    "## Data\n",
    "Based on our problem, the features that will influence our analysis are:\n",
    "* number of existing gym in the neighborhood (of any gym).\n",
    "* number and distance of market place or working place in the neighborhood of any gym.\n",
    "* distance of neighborhood from the city center.\n",
    "\n",
    "For our problem, we need to extract the data from the following sources:\n",
    "* The following url containing the neighborhood of Toronto and the postal code :https://en.wikipedia.org/wiki/List_of_postal_codes_of_Canada:_M.\n",
    "* We use the Foursquare API to obtain the number of public places, working places and the coordinates of each neighborhood."
   ]
  },
  {
   "cell_type": "code",
   "execution_count": null,
   "metadata": {},
   "outputs": [],
   "source": []
  }
 ],
 "metadata": {
  "kernelspec": {
   "display_name": "Python 3",
   "language": "python",
   "name": "python3"
  },
  "language_info": {
   "codemirror_mode": {
    "name": "ipython",
    "version": 3
   },
   "file_extension": ".py",
   "mimetype": "text/x-python",
   "name": "python",
   "nbconvert_exporter": "python",
   "pygments_lexer": "ipython3",
   "version": "3.6.5"
  }
 },
 "nbformat": 4,
 "nbformat_minor": 2
}
